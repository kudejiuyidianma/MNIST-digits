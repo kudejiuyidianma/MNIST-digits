{
 "cells": [
  {
   "cell_type": "code",
   "execution_count": null,
   "id": "1c3a9b75",
   "metadata": {},
   "outputs": [],
   "source": [
    "#common packages we basically always need\n",
    "import numpy as np\n",
    "import matplotlib.pyplot as plt\n",
    "import time"
   ]
  },
  {
   "cell_type": "code",
   "execution_count": null,
   "id": "4a9cf2d7",
   "metadata": {},
   "outputs": [],
   "source": [
    "#load the MNIST dataset with binary pixel values\n",
    "import scipy.io as sio\n",
    "data = sio.loadmat('mnist.mat')\n",
    "print(data)\n",
    "\n",
    "\n",
    "\n",
    "Xtrain, Xtest = data['trainX'].astype(float), data['testX'].astype(float)\n",
    "ytrain, ytest = data['trainY'][0], data['testY'][0]\n",
    "\n",
    "#pull and plot some samples\n",
    "for k in range(9):\n",
    "    plot_data = Xtrain[k,:]\n",
    "    plot_data = np.reshape(plot_data,(28,28))\n",
    "    plot_label = ytrain[k]\n",
    "    plt.subplot(3,3,k+1)\n",
    "    plt.imshow(plot_data)\n",
    "    plt.title(plot_label)\n",
    "plt.tight_layout()\n",
    "\n",
    "def get_small_dataset(X,y,m):\n",
    "    return X[:m,:],y[:m]\n",
    "\n",
    "\n",
    "num_labels = len(np.unique(ytrain))\n",
    "num_feats = Xtrain.shape[1]"
   ]
  },
  {
   "cell_type": "code",
   "execution_count": 3,
   "id": "25371900",
   "metadata": {},
   "outputs": [
    {
     "name": "stdout",
     "output_type": "stream",
     "text": [
      "0.0\n",
      "6069462.0\n",
      "5661744.0\n"
     ]
    }
   ],
   "source": [
    "\n",
    "def get_dist(Xtrain,zquery):\n",
    "    term1 = np.sum(Xtrain*Xtrain,axis=1)\n",
    "    term2 = np.dot(Xtrain,zquery)\n",
    "    term3 = np.dot(zquery,zquery)\n",
    "    return term1 - 2*term2 + term3\n",
    "    \n",
    "print(get_dist(Xtrain,Xtrain[0,:])[0])\n",
    "print(get_dist(Xtrain,Xtest[0,:])[10])\n",
    "print(get_dist(Xtrain,Xtest[10,:])[50])\n",
    "\n",
    "\n"
   ]
  },
  {
   "cell_type": "code",
   "execution_count": 4,
   "id": "3facfd0b",
   "metadata": {},
   "outputs": [
    {
     "name": "stdout",
     "output_type": "stream",
     "text": [
      "[7 2 1 0 4 1 4 4 6 9 0 0 9 0 1 9 7 7 3 4]\n",
      "[7 2 1 0 4 1 4 9 5 9 0 6 9 0 1 5 9 7 3 4]\n"
     ]
    }
   ],
   "source": [
    "import scipy.stats as ss\n",
    "\n",
    "m = 100\n",
    "K = 3\n",
    "\n",
    "Xtrain_small, ytrain_small = get_small_dataset(Xtrain,ytrain,m)\n",
    "\n",
    "def pred(zquery,Xtrain,ytrain, K):\n",
    "    d = get_dist(Xtrain,zquery)\n",
    "    idx = np.argsort(d)\n",
    "    labels = ytrain[idx[:K]]\n",
    "    return ss.mode(labels)[0][0]\n",
    "    \n",
    "ytest_pred = ytest + 0    \n",
    "for k in range(Xtest.shape[0]):\n",
    "    z = Xtest[k,:]\n",
    "    ytest_pred[k] = pred(z,Xtrain_small, ytrain_small, K)\n",
    "    \n",
    "print(ytest_pred[:20])\n",
    "print(ytest[:20])"
   ]
  },
  {
   "cell_type": "code",
   "execution_count": 5,
   "id": "51325979",
   "metadata": {},
   "outputs": [
    {
     "data": {
      "text/plain": [
       "0.6476"
      ]
     },
     "execution_count": 5,
     "metadata": {},
     "output_type": "execute_result"
    }
   ],
   "source": [
    "def get_accuracy(ytest, ypred):\n",
    "    return np.mean(np.equal(ytest,ypred))\n",
    "\n",
    "get_accuracy(ytest,ytest_pred)"
   ]
  },
  {
   "cell_type": "code",
   "execution_count": 6,
   "id": "90311ea5",
   "metadata": {},
   "outputs": [
    {
     "name": "stdout",
     "output_type": "stream",
     "text": [
      "100 1 0.6794 3.055835008621216\n",
      "100 3 0.6476 3.128586530685425\n",
      "100 5 0.6232 3.1971077919006348\n",
      "1000 1 0.869 47.93265891075134\n",
      "1000 3 0.8622 49.253700256347656\n",
      "1000 5 0.8582 47.04932427406311\n",
      "2500 1 0.9136 118.01626539230347\n",
      "2500 3 0.9146 122.57662630081177\n",
      "2500 5 0.9101 125.25599884986877\n"
     ]
    }
   ],
   "source": [
    "import time\n",
    "for m in [100,1000, 2500]:\n",
    "    Xtrain_small, ytrain_small = get_small_dataset(Xtrain,ytrain,m)\n",
    "    for K in [1,3,5]:\n",
    "        \n",
    "        start = time.time()\n",
    "        ytest_pred = ytest + 0    \n",
    "        for k in range(Xtest.shape[0]):\n",
    "            z = Xtest[k,:]\n",
    "            ytest_pred[k] = pred(z,Xtrain_small, ytrain_small, K)\n",
    "    \n",
    "        print(m,K,get_accuracy(ytest,ytest_pred), time.time()-start)"
   ]
  },
  {
   "cell_type": "code",
   "execution_count": null,
   "id": "679540aa",
   "metadata": {},
   "outputs": [],
   "source": []
  }
 ],
 "metadata": {
  "kernelspec": {
   "display_name": "Python 3",
   "language": "python",
   "name": "python3"
  },
  "language_info": {
   "codemirror_mode": {
    "name": "ipython",
    "version": 3
   },
   "file_extension": ".py",
   "mimetype": "text/x-python",
   "name": "python",
   "nbconvert_exporter": "python",
   "pygments_lexer": "ipython3",
   "version": "3.8.8"
  }
 },
 "nbformat": 4,
 "nbformat_minor": 5
}
